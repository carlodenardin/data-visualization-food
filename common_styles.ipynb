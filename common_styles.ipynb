{
 "cells": [
  {
   "attachments": {},
   "cell_type": "markdown",
   "metadata": {},
   "source": [
    "# Style\n",
    "This are the common style for this project\n",
    "\n",
    "## Figure\n",
    "- FIGURE_SIZE_X = 15\n",
    "- FIGURE_SIZE_Y = 8\n",
    "\n",
    "## Colors\n",
    "\n",
    "### Graph\n",
    "- BACKGROUND_COLOR = '#f7f2e0ff'\n",
    "- GRID_COLOR = 'grey'\n",
    "- PALETTE = ['#003f5c', '#444e86', '#955196', '#dd5182', '#ff6e54', '#ffa600', SECONDARY_TEXT_COLOR] (https://www.learnui.design/tools/data-color-picker.html)\n",
    "- BAR = ['#4eba84', '#327557']\n",
    "\n",
    "### Text\n",
    "- PRIMARY_TEXT_COLOR = '#343a40'\n",
    "- SECONDARY_TEXT_COLOR = '#dee2e6'\n",
    "- WHITE_TEXT_COLOR = '#fdfffc'\n",
    "- GREEN_TEXT_COLOR = '#40916c'\n",
    "\n",
    "## Font\n",
    "\n",
    "By default the font that is used in the graphs is: 'Cabin-Regular'\n",
    "\n",
    "- FONT = 'Cabin-Regular'\n",
    "\n",
    "### Label\n",
    "\n",
    "- LABEL_SIZE = 12\n",
    "- LABEL_WEIGHT = 'bold'\n",
    "- LABEL_PAD = 10\n",
    "\n",
    "### Tick\n",
    "\n",
    "- TICK_SIZE = 10\n",
    "\n",
    "### Legend\n",
    "\n",
    "- LEGEND_SIZE = 10\n",
    "\n",
    "### Annotation\n",
    "\n",
    "- ANNOTATION_SIZE = 10\n"
   ]
  },
  {
   "cell_type": "code",
   "execution_count": 1,
   "metadata": {},
   "outputs": [],
   "source": [
    "# Figure\n",
    "FIGURE_SIZE_X = 15\n",
    "FIGURE_SIZE_Y = 8\n",
    "\n",
    "# Text colors\n",
    "PRIMARY_TEXT_COLOR = '#343a40'\n",
    "SECONDARY_TEXT_COLOR = '#dee2e6'\n",
    "WHITE_TEXT_COLOR = '#fdfffc'\n",
    "GREEN_TEXT_COLOR = '#40916c'\n",
    "\n",
    "# Graph colors\n",
    "BACKGROUND_COLOR = '#f7f2e0ff'\n",
    "GRID_COLOR = 'grey'\n",
    "PALETTE_COLOR = ['#003f5c', '#444e86', '#955196', '#dd5182', '#ff6e54', '#ffa600', SECONDARY_TEXT_COLOR]\n",
    "BAR_COLOR = ['#4eba84', '#327557']\n",
    "\n",
    "# Font faimly\n",
    "FONT_STYLE = 'Cabin-Regular'\n",
    "\n",
    "# Label font\n",
    "LABEL_SIZE = 12\n",
    "LABEL_WEIGHT = 'bold'\n",
    "LABEL_PAD = 10\n",
    "\n",
    "# Tick font\n",
    "TICK_SIZE = 10\n",
    "\n",
    "# Legend font\n",
    "LEGEND_SIZE = 10\n",
    "\n",
    "# Annotation font\n",
    "ANNOTATION_SIZE = 10"
   ]
  }
 ],
 "metadata": {
  "kernelspec": {
   "display_name": "data-visualization",
   "language": "python",
   "name": "python3"
  },
  "language_info": {
   "codemirror_mode": {
    "name": "ipython",
    "version": 3
   },
   "file_extension": ".py",
   "mimetype": "text/x-python",
   "name": "python",
   "nbconvert_exporter": "python",
   "pygments_lexer": "ipython3",
   "version": "3.10.7 | packaged by conda-forge | (main, Nov 21 2022, 13:22:15) [Clang 14.0.6 ]"
  },
  "orig_nbformat": 4,
  "vscode": {
   "interpreter": {
    "hash": "7e4f3c93aa6e0672a860a71fc51f77907db363188494fe9f72eb5d4cc54bf7f6"
   }
  }
 },
 "nbformat": 4,
 "nbformat_minor": 2
}
