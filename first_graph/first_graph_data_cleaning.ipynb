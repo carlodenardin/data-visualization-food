{
 "cells": [
  {
   "cell_type": "code",
   "execution_count": 41,
   "metadata": {},
   "outputs": [],
   "source": [
    "# Libraries\n",
    "import pandas as pd"
   ]
  },
  {
   "cell_type": "code",
   "execution_count": 42,
   "metadata": {},
   "outputs": [],
   "source": [
    "# Importing data\n",
    "food_production_1961_2009 = pd.read_csv('food_production_1961_2009.csv')\n",
    "food_production_2010_2019 = pd.read_csv('food_production_2010_2019.csv')\n",
    "population = pd.read_csv('population.csv')\n",
    "\n",
    "# Drop useless columns\n",
    "food_production_1961_2009 = food_production_1961_2009.drop(['Domain Code', 'Domain', 'Area', 'Area Code (M49)', 'Element Code', 'Element', 'Item Code (CPC)', 'Year Code', 'Unit', 'Flag', 'Flag Description'], axis=1)\n",
    "food_production_2010_2019 = food_production_2010_2019.drop(['Domain Code', 'Domain', 'Area', 'Area Code (M49)', 'Element Code', 'Element', 'Item Code (CPC)', 'Year Code', 'Unit', 'Flag', 'Flag Description'], axis=1)\n",
    "\n",
    "# Merge dataframes\n",
    "food_production = pd.concat([food_production_1961_2009, food_production_2010_2019], ignore_index = True)"
   ]
  },
  {
   "cell_type": "code",
   "execution_count": 43,
   "metadata": {},
   "outputs": [],
   "source": [
    "# Renaming columns to perform a restricted aggregation and have better names\n",
    "food_production['Item'] = food_production['Item'].replace('Cereals - Excluding Beer', 'Cereals')\n",
    "food_production['Item'] = food_production['Item'].replace('Starchy Roots', 'Roots and tubers')\n",
    "food_production['Item'] = food_production['Item'].replace('Sugar Crops', 'Sugar')\n",
    "food_production['Item'] = food_production['Item'].replace('Sugar & Sweeteners', 'Sugar')\n",
    "food_production['Item'] = food_production['Item'].replace('Alcoholic Beverages', 'Alcoholic beverages')\n",
    "food_production['Item'] = food_production['Item'].replace('Fruits - Excluding Wine', 'Fruits')\n",
    "food_production['Item'] = food_production['Item'].replace('Milk - Excluding Butter', 'Milk and eggs')\n",
    "food_production['Item'] = food_production['Item'].replace('Eggs', 'Milk and eggs')\n",
    "food_production['Item'] = food_production['Item'].replace('Oilcrops', 'Fats and oils')\n",
    "food_production['Item'] = food_production['Item'].replace('Vegetable Oils', 'Fats and oils')\n",
    "food_production['Item'] = food_production['Item'].replace('Animal fats', 'Fats and oils')\n",
    "food_production['Item'] = food_production['Item'].replace('Fish, Seafood', 'Fish and seafood')\n",
    "food_production['Item'] = food_production['Item'].replace('Aquatic Products, Other', 'Fish and seafood')\n",
    "\n",
    "food_production = food_production.groupby(['Item', 'Year']).sum().reset_index()"
   ]
  },
  {
   "cell_type": "code",
   "execution_count": 44,
   "metadata": {},
   "outputs": [],
   "source": [
    "# Save foods that will be used in the graph\n",
    "cereals, sugar, fats_oils, vegetables, milk_eggs, fruits, others = [], [], [], [], [], [], []\n",
    "\n",
    "years = range(1961, 2020, 2)\n",
    "\n",
    "for year in years:\n",
    "    cereals.append(food_production[(food_production['Item'] == 'Cereals') & (food_production['Year'] == year)]['Value'].sum())\n",
    "    sugar.append(food_production[(food_production['Item'] == 'Sugar') & (food_production['Year'] == year)]['Value'].sum())\n",
    "    fats_oils.append(food_production[(food_production['Item'] == 'Fats and oils') & (food_production['Year'] == year)]['Value'].sum())\n",
    "    vegetables.append(food_production[(food_production['Item'] == 'Vegetables') & (food_production['Year'] == year)]['Value'].sum())\n",
    "    milk_eggs.append(food_production[(food_production['Item'] == 'Milk and eggs') & (food_production['Year'] == year)]['Value'].sum())\n",
    "    fruits.append(food_production[(food_production['Item'] == 'Fruits') & (food_production['Year'] == year)]['Value'].sum())\n",
    "\n",
    "    others_total = 0\n",
    "\n",
    "    others_total += food_production[(food_production['Item'] == 'Roots and tubers') & (food_production['Year'] == year)]['Value'].sum()\n",
    "    others_total += food_production[(food_production['Item'] == 'Meat') & (food_production['Year'] == year)]['Value'].sum()\n",
    "    others_total += food_production[(food_production['Item'] == 'Alcoholic beverages') & (food_production['Year'] == year)]['Value'].sum()\n",
    "    others_total += food_production[(food_production['Item'] == 'Fish and seafood') & (food_production['Year'] == year)]['Value'].sum()\n",
    "    others_total += food_production[(food_production['Item'] == 'Pulses') & (food_production['Year'] == year)]['Value'].sum()\n",
    "    others_total += food_production[(food_production['Item'] == 'Treenuts') & (food_production['Year'] == year)]['Value'].sum()\n",
    "    others_total += food_production[(food_production['Item'] == 'Stimulants') & (food_production['Year'] == year)]['Value'].sum()\n",
    "    others_total += food_production[(food_production['Item'] == 'Spices') & (food_production['Year'] == year)]['Value'].sum()\n",
    "    others_total += food_production[(food_production['Item'] == 'Offals') & (food_production['Year'] == year)]['Value'].sum()\n",
    "    others_total += food_production[(food_production['Item'] == 'Miscellaneous') & (food_production['Year'] == year)]['Value'].sum()\n",
    "\n",
    "    others.append(others_total)"
   ]
  },
  {
   "cell_type": "code",
   "execution_count": 45,
   "metadata": {},
   "outputs": [],
   "source": [
    "# Compute percentage that each food represents in the total food production for 1961 and 2019 (useful for the graph)\n",
    "cereals_p, sugar_p, fats_oils_p, vegetables_p, milk_eggs_p, fruits_p, others_p = [], [], [], [], [], [], []\n",
    "\n",
    "# 1961\n",
    "total_1961 = cereals[0] + sugar[0] + fats_oils[0] + vegetables[0] + milk_eggs[0] + fruits[0] + others[0]\n",
    "cereals_p.append(cereals[0] / total_1961 * 100)\n",
    "sugar_p.append(sugar[0] / total_1961 * 100)\n",
    "fats_oils_p.append(fats_oils[0] / total_1961 * 100)\n",
    "vegetables_p.append(vegetables[0] / total_1961 * 100)\n",
    "milk_eggs_p.append(milk_eggs[0] / total_1961 * 100)\n",
    "fruits_p.append(fruits[0] / total_1961 * 100)\n",
    "others_p.append(others[0] / total_1961 * 100)\n",
    "\n",
    "# 2019\n",
    "total_2019 = cereals[-1] + sugar[-1] + fats_oils[-1] + vegetables[-1] + milk_eggs[-1] + fruits[-1] + others[-1]\n",
    "cereals_p.append(cereals[-1] / total_2019 * 100)\n",
    "sugar_p.append(sugar[-1] / total_2019 * 100)\n",
    "fats_oils_p.append(fats_oils[-1] / total_2019 * 100)\n",
    "vegetables_p.append(vegetables[-1] / total_2019 * 100)\n",
    "milk_eggs_p.append(milk_eggs[-1] / total_2019 * 100)\n",
    "fruits_p.append(fruits[-1] / total_2019 * 100)\n",
    "others_p.append(others[-1] / total_2019 * 100)"
   ]
  },
  {
   "cell_type": "code",
   "execution_count": 46,
   "metadata": {},
   "outputs": [],
   "source": [
    "population_1961 = population[population['Year'] == 1961][['Value']].Value.values[0]\n",
    "population_2019 = population[population['Year'] == 2019][['Value']].Value.values[0]\n"
   ]
  }
 ],
 "metadata": {
  "kernelspec": {
   "display_name": "data-visualization",
   "language": "python",
   "name": "python3"
  },
  "language_info": {
   "codemirror_mode": {
    "name": "ipython",
    "version": 3
   },
   "file_extension": ".py",
   "mimetype": "text/x-python",
   "name": "python",
   "nbconvert_exporter": "python",
   "pygments_lexer": "ipython3",
   "version": "3.10.7"
  },
  "orig_nbformat": 4,
  "vscode": {
   "interpreter": {
    "hash": "7e4f3c93aa6e0672a860a71fc51f77907db363188494fe9f72eb5d4cc54bf7f6"
   }
  }
 },
 "nbformat": 4,
 "nbformat_minor": 2
}
